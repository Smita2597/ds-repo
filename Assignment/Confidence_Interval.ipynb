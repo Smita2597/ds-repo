{
 "cells": [
  {
   "cell_type": "markdown",
   "metadata": {},
   "source": [
    "#### Estimation and Confidence Interval"
   ]
  },
  {
   "cell_type": "markdown",
   "metadata": {},
   "source": [
    "Scenario\n",
    "\n",
    "A manufacturer of print-heads for personal computers is interested in estimating the mean durability of their print-heads in terms of the number of characters printed before failure. To assess this, the manufacturer conducts a study on a small sample of print-heads due to the destructive nature of the testing process.\n"
   ]
  },
  {
   "cell_type": "markdown",
   "metadata": {},
   "source": [
    "a. Build 99% Confidence Interval Using Sample Standard Deviation"
   ]
  },
  {
   "cell_type": "code",
   "execution_count": 37,
   "metadata": {},
   "outputs": [],
   "source": [
    "## 1. Here we will use t- test because the sample size is leass than 30"
   ]
  },
  {
   "cell_type": "code",
   "execution_count": 17,
   "metadata": {},
   "outputs": [],
   "source": [
    "import numpy as np\n",
    "import statistics\n",
    "from scipy import stats"
   ]
  },
  {
   "cell_type": "code",
   "execution_count": 1,
   "metadata": {},
   "outputs": [],
   "source": [
    "sample_data = 1.13, 1.55, 1.43, 0.92, 1.25, 1.36, 1.32, 0.85, 1.07, 1.48, 1.20, 1.33, 1.18, 1.22, 1.29"
   ]
  },
  {
   "cell_type": "code",
   "execution_count": 25,
   "metadata": {},
   "outputs": [
    {
     "name": "stdout",
     "output_type": "stream",
     "text": [
      "Sample Mean: 1.24\n",
      "Sample Standard Deviation: 0.19\n",
      "Sample Size: 15\n",
      "Confidence Interval: 0.99\n",
      "Degree of Freedom: 14\n"
     ]
    }
   ],
   "source": [
    "#calculate mean\n",
    "mean = round(statistics.mean(sample_data),2)\n",
    "print(\"Sample Mean:\",mean)\n",
    "\n",
    "#calculate standard deviation\n",
    "std = round(statistics.stdev(sample_data),2)\n",
    "print(\"Sample Standard Deviation:\",std)\n",
    "\n",
    "#declare sample size\n",
    "sample_size = 15\n",
    "print(\"Sample Size:\", sample_size)\n",
    "\n",
    "#define confidence interval\n",
    "confidence_interval = 0.99\n",
    "print(\"Confidence Interval:\", confidence_interval)\n",
    "\n",
    "## Degree of Freedom\n",
    "df = sample_size - 1\n",
    "print(\"Degree of Freedom:\",df)"
   ]
  },
  {
   "cell_type": "code",
   "execution_count": 21,
   "metadata": {},
   "outputs": [
    {
     "data": {
      "text/plain": [
       "0.0050000000000000044"
      ]
     },
     "execution_count": 21,
     "metadata": {},
     "output_type": "execute_result"
    }
   ],
   "source": [
    "## calculate significance level\n",
    "alpha = (1 - confidence_interval)/2\n",
    "alpha"
   ]
  },
  {
   "cell_type": "code",
   "execution_count": 32,
   "metadata": {},
   "outputs": [
    {
     "name": "stdout",
     "output_type": "stream",
     "text": [
      "2.976842734370834\n"
     ]
    }
   ],
   "source": [
    "## Calculate t-value\n",
    "t_value = stats.t.ppf(1-alpha,df)\n",
    "print(t_value)"
   ]
  },
  {
   "cell_type": "code",
   "execution_count": 33,
   "metadata": {},
   "outputs": [
    {
     "name": "stdout",
     "output_type": "stream",
     "text": [
      "Margin of error:0.146037322903626\n"
     ]
    }
   ],
   "source": [
    "#calculate margin of error using formula\n",
    "margin_of_error = t_value*(std/np.sqrt(sample_size))\n",
    "print(f\"Margin of error:{margin_of_error}\")"
   ]
  },
  {
   "cell_type": "code",
   "execution_count": 42,
   "metadata": {},
   "outputs": [
    {
     "name": "stdout",
     "output_type": "stream",
     "text": [
      "Confidence Interval:1.09,1.39\n"
     ]
    }
   ],
   "source": [
    "lower_limit = (mean - margin_of_error).round(2)\n",
    "upper_limit = (mean + margin_of_error).round(2)\n",
    "\n",
    "print ((f\"Confidence Interval:{lower_limit},{upper_limit}\"))"
   ]
  },
  {
   "cell_type": "markdown",
   "metadata": {},
   "source": [
    "Conclusion (based on t_value):\n",
    "- We are 99% confident that the mean number of characters printed before the print head fails is between 1.09 and 1.39 millions of characters."
   ]
  },
  {
   "cell_type": "markdown",
   "metadata": {},
   "source": [
    "b. Build 99% Confidence Interval Using Known Population Standard Deviation"
   ]
  },
  {
   "cell_type": "code",
   "execution_count": null,
   "metadata": {},
   "outputs": [],
   "source": [
    "## Here population standard deviation is given, hence we will use z-test"
   ]
  },
  {
   "cell_type": "code",
   "execution_count": 49,
   "metadata": {},
   "outputs": [],
   "source": [
    "population_stdev = 0.2"
   ]
  },
  {
   "cell_type": "code",
   "execution_count": null,
   "metadata": {},
   "outputs": [],
   "source": [
    "mean = round(statistics.mean(sample_data),2)\n",
    "print(\"Sample Mean:\",mean)\n",
    "\n",
    "#define confidence interval\n",
    "confidence_interval = 0.99\n",
    "print(\"Confidence Interval:\", confidence_interval)"
   ]
  },
  {
   "cell_type": "code",
   "execution_count": 43,
   "metadata": {},
   "outputs": [
    {
     "data": {
      "text/plain": [
       "0.0050000000000000044"
      ]
     },
     "execution_count": 43,
     "metadata": {},
     "output_type": "execute_result"
    }
   ],
   "source": [
    "## calculate significance level\n",
    "alpha = (1 - confidence_interval)/2\n",
    "alpha"
   ]
  },
  {
   "cell_type": "code",
   "execution_count": 47,
   "metadata": {},
   "outputs": [
    {
     "data": {
      "text/plain": [
       "np.float64(2.5758293035489004)"
      ]
     },
     "execution_count": 47,
     "metadata": {},
     "output_type": "execute_result"
    }
   ],
   "source": [
    "# calculate z-value\n",
    "z_value = stats.norm.ppf((1-alpha))\n",
    "z_value"
   ]
  },
  {
   "cell_type": "code",
   "execution_count": 50,
   "metadata": {},
   "outputs": [
    {
     "name": "stdout",
     "output_type": "stream",
     "text": [
      "Margin of error:0.13301525327090588\n"
     ]
    }
   ],
   "source": [
    "#calculate margin of error using formula\n",
    "margin_of_error = z_value*(population_stdev/np.sqrt(sample_size))\n",
    "print(f\"Margin of error:{margin_of_error}\")"
   ]
  },
  {
   "cell_type": "code",
   "execution_count": 51,
   "metadata": {},
   "outputs": [
    {
     "name": "stdout",
     "output_type": "stream",
     "text": [
      "Confidence Interval:1.11,1.37\n"
     ]
    }
   ],
   "source": [
    "lower_limit = (mean - margin_of_error).round(2)\n",
    "upper_limit = (mean + margin_of_error).round(2)\n",
    "\n",
    "print ((f\"Confidence Interval:{lower_limit},{upper_limit}\"))"
   ]
  },
  {
   "cell_type": "markdown",
   "metadata": {},
   "source": [
    "Conclusion (based on z_value):\n",
    "- We are 99% confident that the mean number of characters printed before the print head fails is between 1.11 and 1.37 millions of characters."
   ]
  }
 ],
 "metadata": {
  "kernelspec": {
   "display_name": ".venv",
   "language": "python",
   "name": "python3"
  },
  "language_info": {
   "codemirror_mode": {
    "name": "ipython",
    "version": 3
   },
   "file_extension": ".py",
   "mimetype": "text/x-python",
   "name": "python",
   "nbconvert_exporter": "python",
   "pygments_lexer": "ipython3",
   "version": "3.13.0"
  }
 },
 "nbformat": 4,
 "nbformat_minor": 2
}
