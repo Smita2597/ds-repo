{
 "cells": [
  {
   "cell_type": "markdown",
   "metadata": {},
   "source": [
    "HYPOTHESIS TESTING\n",
    "\n",
    "Background:\n",
    "- Bombay hospitality Ltd. operates a franchise model for producing exotic Norwegian dinners throughout New England. The operating cost for a franchise in a week (W) is given by the equation W = $1,000 + $5X, where X represents the number of units produced in a week. Recent feedback from restaurant owners suggests that this cost model may no longer be accurate, as their observed weekly operating costs are higher.\n"
   ]
  },
  {
   "cell_type": "markdown",
   "metadata": {},
   "source": [
    "Objective:\n",
    "- To investigate the restaurant owners' claim about the increase in weekly operating costs using hypothesis testing.\n"
   ]
  },
  {
   "cell_type": "markdown",
   "metadata": {},
   "source": [
    "Step 1. State the Hypotheses statement:\n",
    "- H0: Restaurant owners suggests that cost model may no longer be accurate as it increases weekely operating cost.\n",
    "\n",
    "- H1: Model is accurate and there is no increse in weekely operating cost"
   ]
  },
  {
   "cell_type": "markdown",
   "metadata": {},
   "source": [
    "##### Step 2: Decide Significance level"
   ]
  },
  {
   "cell_type": "code",
   "execution_count": 3,
   "metadata": {},
   "outputs": [],
   "source": [
    "alpha = 0.05"
   ]
  },
  {
   "cell_type": "markdown",
   "metadata": {},
   "source": [
    "##### Step 3: Calculate the Test Statistic:"
   ]
  },
  {
   "cell_type": "code",
   "execution_count": 4,
   "metadata": {},
   "outputs": [],
   "source": [
    "# import required lib\n",
    "from scipy import stats\n",
    "import numpy as np"
   ]
  },
  {
   "cell_type": "code",
   "execution_count": 28,
   "metadata": {},
   "outputs": [],
   "source": [
    "# Here, sample data is less than 30 and the problem statement talks about the increase and decrease in cost,hence we will use two-tail test here.\n",
    "sample_mean = 3050\n",
    "population_mean = 1000+(5*600)\n",
    "sample_standard_deviation = (5*25)\n",
    "sample_size = 25\n",
    "\n",
    "# define degrees of freedom\n",
    "df = sample_size - 1"
   ]
  },
  {
   "cell_type": "code",
   "execution_count": 25,
   "metadata": {},
   "outputs": [
    {
     "name": "stdout",
     "output_type": "stream",
     "text": [
      "-38.0\n"
     ]
    }
   ],
   "source": [
    "t_stat = (sample_mean - population_mean)/(sample_standard_deviation/np.sqrt(sample_size))\n",
    "print(t_stat)"
   ]
  },
  {
   "cell_type": "code",
   "execution_count": 26,
   "metadata": {},
   "outputs": [],
   "source": [
    "#### Determine Critical value from standard normal Z distribution table\n",
    "## z- score using t-table - here we can check the zscore using the degree of freedom and alpha value\n",
    "\n",
    "critical_value = 2.064"
   ]
  },
  {
   "cell_type": "markdown",
   "metadata": {},
   "source": [
    "Step 4: Make a Decision"
   ]
  },
  {
   "cell_type": "code",
   "execution_count": 27,
   "metadata": {},
   "outputs": [
    {
     "name": "stdout",
     "output_type": "stream",
     "text": [
      "Accept the Null Hypothesis\n"
     ]
    }
   ],
   "source": [
    "# t_stat = -0.38\n",
    "# Critical_value = 2.064\n",
    "\n",
    "if t_stat > critical_value:\n",
    "    print(\"Reject the Null Hypothesis\")\n",
    "else:\n",
    "    print(\"Accept the Null Hypothesis\")"
   ]
  },
  {
   "cell_type": "markdown",
   "metadata": {},
   "source": [
    "Step 5: Conclusion"
   ]
  },
  {
   "cell_type": "markdown",
   "metadata": {},
   "source": [
    "Since the t_stat value is less than critical value, we can say that the restaurant owners' claim about the increase in weekly operating costs is true. Hence we are accpeting the null hypothesis here.\n"
   ]
  }
 ],
 "metadata": {
  "kernelspec": {
   "display_name": ".venv",
   "language": "python",
   "name": "python3"
  },
  "language_info": {
   "codemirror_mode": {
    "name": "ipython",
    "version": 3
   },
   "file_extension": ".py",
   "mimetype": "text/x-python",
   "name": "python",
   "nbconvert_exporter": "python",
   "pygments_lexer": "ipython3",
   "version": "3.13.0"
  }
 },
 "nbformat": 4,
 "nbformat_minor": 2
}
