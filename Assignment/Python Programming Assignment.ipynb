{
 "cells": [
  {
   "cell_type": "markdown",
   "metadata": {},
   "source": [
    "Exercise 1: Prime Numbers\n",
    "Write a Python program that checks whether a given number is prime or not. A prime number is a natural number greater than 1 that has no positive divisors other than 1 and itself.\n"
   ]
  },
  {
   "cell_type": "code",
   "execution_count": 4,
   "metadata": {},
   "outputs": [
    {
     "name": "stdout",
     "output_type": "stream",
     "text": [
      "Number a Prime Number\n"
     ]
    }
   ],
   "source": [
    "# taking user input\n",
    "user_input = int(input(\"Enter a number: \"))\n",
    "# first check number should be grater than 1\n",
    "if user_input == 0 or user_input == 1:\n",
    "    print(\"Given Number is not a Prime Number\")\n",
    "    \n",
    "flag = False   \n",
    "if user_input >1:\n",
    "    for i in range (2,user_input):\n",
    "        if user_input%i==0:\n",
    "            flag =True\n",
    "            break\n",
    "if flag:\n",
    "    print(\"Number is not a Prime Number\")    \n",
    "else:\n",
    "     print(\"Number a Prime Number\")  "
   ]
  },
  {
   "cell_type": "markdown",
   "metadata": {},
   "source": [
    "Exercise 2: Product of Random Numbers\n",
    "\n",
    "Develop a Python program that generates two random numbers and asks the user to enter the product of these numbers. The program should then check if the user's answer is correct and display an appropriate message."
   ]
  },
  {
   "cell_type": "code",
   "execution_count": 40,
   "metadata": {},
   "outputs": [
    {
     "name": "stdout",
     "output_type": "stream",
     "text": [
      "[43, 34]\n",
      "Wrong answer, please enter corret answer\n"
     ]
    }
   ],
   "source": [
    "import random\n",
    "num = []\n",
    "for i in range(2):\n",
    "    number = random.randint(2,100)\n",
    "    num.append(number)        ##append generated random number in a empty list \n",
    "print(num)\n",
    "\n",
    "user_input = int(input(f\"Enter the product of two given number: {num}\"))\n",
    "if user_input == (num[0]*num[1]):\n",
    "    print(\"Answer given by user is correct\")\n",
    "else:\n",
    "    print(\"Wrong answer, please enter corret answer\")"
   ]
  },
  {
   "cell_type": "code",
   "execution_count": 39,
   "metadata": {},
   "outputs": [
    {
     "name": "stdout",
     "output_type": "stream",
     "text": [
      "[9, 94]\n"
     ]
    },
    {
     "data": {
      "text/plain": [
       "846"
      ]
     },
     "execution_count": 39,
     "metadata": {},
     "output_type": "execute_result"
    }
   ],
   "source": [
    "num = []\n",
    "for i in range(2):\n",
    "    number = random.randint(2,100)\n",
    "    num.append(number)\n",
    "print(num)\n",
    "\n",
    "multiplication = num[0]*num[1]\n"
   ]
  },
  {
   "cell_type": "markdown",
   "metadata": {},
   "source": [
    "Exercise 3: Squares of Even/Odd Numbers\n",
    "Create a Python script that prints the squares of all even or odd numbers within the range of 100 to 200. Choose either even or odd numbers and document your choice in the code.\n"
   ]
  },
  {
   "cell_type": "code",
   "execution_count": 16,
   "metadata": {},
   "outputs": [
    {
     "name": "stdout",
     "output_type": "stream",
     "text": [
      "Square of a number 100 is: 10000\n",
      "Square of a number 102 is: 10404\n",
      "Square of a number 104 is: 10816\n",
      "Square of a number 106 is: 11236\n",
      "Square of a number 108 is: 11664\n",
      "Square of a number 110 is: 12100\n",
      "Square of a number 112 is: 12544\n",
      "Square of a number 114 is: 12996\n",
      "Square of a number 116 is: 13456\n",
      "Square of a number 118 is: 13924\n",
      "Square of a number 120 is: 14400\n",
      "Square of a number 122 is: 14884\n",
      "Square of a number 124 is: 15376\n",
      "Square of a number 126 is: 15876\n",
      "Square of a number 128 is: 16384\n",
      "Square of a number 130 is: 16900\n",
      "Square of a number 132 is: 17424\n",
      "Square of a number 134 is: 17956\n",
      "Square of a number 136 is: 18496\n",
      "Square of a number 138 is: 19044\n",
      "Square of a number 140 is: 19600\n",
      "Square of a number 142 is: 20164\n",
      "Square of a number 144 is: 20736\n",
      "Square of a number 146 is: 21316\n",
      "Square of a number 148 is: 21904\n",
      "Square of a number 150 is: 22500\n",
      "Square of a number 152 is: 23104\n",
      "Square of a number 154 is: 23716\n",
      "Square of a number 156 is: 24336\n",
      "Square of a number 158 is: 24964\n",
      "Square of a number 160 is: 25600\n",
      "Square of a number 162 is: 26244\n",
      "Square of a number 164 is: 26896\n",
      "Square of a number 166 is: 27556\n",
      "Square of a number 168 is: 28224\n",
      "Square of a number 170 is: 28900\n",
      "Square of a number 172 is: 29584\n",
      "Square of a number 174 is: 30276\n",
      "Square of a number 176 is: 30976\n",
      "Square of a number 178 is: 31684\n",
      "Square of a number 180 is: 32400\n",
      "Square of a number 182 is: 33124\n",
      "Square of a number 184 is: 33856\n",
      "Square of a number 186 is: 34596\n",
      "Square of a number 188 is: 35344\n",
      "Square of a number 190 is: 36100\n",
      "Square of a number 192 is: 36864\n",
      "Square of a number 194 is: 37636\n",
      "Square of a number 196 is: 38416\n",
      "Square of a number 198 is: 39204\n",
      "Square of a number 200 is: 40000\n"
     ]
    }
   ],
   "source": [
    "## Suares of even numbers i range of 100,200\n",
    "for i in range(100,201):\n",
    "    if i %2==0:\n",
    "        print(f'Square of a number {i} is:',i**2)\n"
   ]
  },
  {
   "cell_type": "code",
   "execution_count": 17,
   "metadata": {},
   "outputs": [
    {
     "name": "stdout",
     "output_type": "stream",
     "text": [
      "Square of a number 101 is: 10201\n",
      "Square of a number 103 is: 10609\n",
      "Square of a number 105 is: 11025\n",
      "Square of a number 107 is: 11449\n",
      "Square of a number 109 is: 11881\n",
      "Square of a number 111 is: 12321\n",
      "Square of a number 113 is: 12769\n",
      "Square of a number 115 is: 13225\n",
      "Square of a number 117 is: 13689\n",
      "Square of a number 119 is: 14161\n",
      "Square of a number 121 is: 14641\n",
      "Square of a number 123 is: 15129\n",
      "Square of a number 125 is: 15625\n",
      "Square of a number 127 is: 16129\n",
      "Square of a number 129 is: 16641\n",
      "Square of a number 131 is: 17161\n",
      "Square of a number 133 is: 17689\n",
      "Square of a number 135 is: 18225\n",
      "Square of a number 137 is: 18769\n",
      "Square of a number 139 is: 19321\n",
      "Square of a number 141 is: 19881\n",
      "Square of a number 143 is: 20449\n",
      "Square of a number 145 is: 21025\n",
      "Square of a number 147 is: 21609\n",
      "Square of a number 149 is: 22201\n",
      "Square of a number 151 is: 22801\n",
      "Square of a number 153 is: 23409\n",
      "Square of a number 155 is: 24025\n",
      "Square of a number 157 is: 24649\n",
      "Square of a number 159 is: 25281\n",
      "Square of a number 161 is: 25921\n",
      "Square of a number 163 is: 26569\n",
      "Square of a number 165 is: 27225\n",
      "Square of a number 167 is: 27889\n",
      "Square of a number 169 is: 28561\n",
      "Square of a number 171 is: 29241\n",
      "Square of a number 173 is: 29929\n",
      "Square of a number 175 is: 30625\n",
      "Square of a number 177 is: 31329\n",
      "Square of a number 179 is: 32041\n",
      "Square of a number 181 is: 32761\n",
      "Square of a number 183 is: 33489\n",
      "Square of a number 185 is: 34225\n",
      "Square of a number 187 is: 34969\n",
      "Square of a number 189 is: 35721\n",
      "Square of a number 191 is: 36481\n",
      "Square of a number 193 is: 37249\n",
      "Square of a number 195 is: 38025\n",
      "Square of a number 197 is: 38809\n",
      "Square of a number 199 is: 39601\n"
     ]
    }
   ],
   "source": [
    "## Suares of odd numbers i range of 100,200\n",
    "for i in range(100,201):\n",
    "    if i %2!=0:\n",
    "        print(f'Square of a number {i} is:',i**2)\n"
   ]
  },
  {
   "cell_type": "markdown",
   "metadata": {},
   "source": [
    "Exercise 4: Word counter\n",
    "\n",
    "write a program to count the number of words in a given text.\n",
    "example:\n",
    "input_text = \"This is a sample text. This text will be used to demonstrate the word counter.\"\n",
    "Expected output:\n",
    "'This': 2 \n",
    "'is': 1\n",
    "'a': 1\n",
    "'sample': 1\n",
    "'text.': 1\n"
   ]
  },
  {
   "cell_type": "code",
   "execution_count": 94,
   "metadata": {},
   "outputs": [
    {
     "name": "stdout",
     "output_type": "stream",
     "text": [
      "This : 2\n",
      "is : 1\n",
      "a : 1\n",
      "sample : 1\n",
      "text. : 1\n",
      "This : 2\n",
      "text : 1\n",
      "will : 1\n",
      "be : 1\n",
      "used : 1\n",
      "to : 1\n",
      "demonstrate : 1\n",
      "the : 1\n",
      "word : 1\n",
      "counter. : 1\n"
     ]
    }
   ],
   "source": [
    "input_text = \"This is a sample text. This text will be used to demonstrate the word counter.\"\n",
    "\n",
    "text = (\"This is a sample text. This text will be used to demonstrate the word counter.\").split()\n",
    "\n",
    "for i in (text):\n",
    "    print(f\"{i} :\",text.count(i))\n",
    "    \n",
    "   \n",
    "    "
   ]
  },
  {
   "cell_type": "code",
   "execution_count": 95,
   "metadata": {},
   "outputs": [
    {
     "name": "stdout",
     "output_type": "stream",
     "text": [
      "This : 1\n",
      "is : 1\n",
      "a : 1\n",
      "sample : 1\n",
      "text : 1\n"
     ]
    }
   ],
   "source": [
    "input_text = \"This is a sample text. This text will be used to demonstrate the word counter.\"\n",
    "\n",
    "text = (\"This is a sample text\").split()\n",
    "\n",
    "for i in (text):\n",
    "    print(f\"{i} :\",text.count(i))\n",
    "    \n",
    "   "
   ]
  },
  {
   "cell_type": "markdown",
   "metadata": {},
   "source": [
    "Exercise 5: Check for Palindrome\n",
    "\n",
    "Write a Python function called is_palindrome that takes a string as input and returns True if the string is a palindrome, and False otherwise. A palindrome is a word, phrase, number, or other sequence of characters that reads the same forward and backward, ignoring spaces, punctuation, and capitalization.\n",
    "\n",
    "Example:\n",
    "Input: \"racecar\"\n",
    "\n",
    "Expected Output: True\n",
    "\n",
    "\n"
   ]
  },
  {
   "cell_type": "code",
   "execution_count": 14,
   "metadata": {},
   "outputs": [
    {
     "data": {
      "text/plain": [
       "True"
      ]
     },
     "execution_count": 14,
     "metadata": {},
     "output_type": "execute_result"
    }
   ],
   "source": [
    "def is_palindrome(text):\n",
    "    if text == text[::-1]:    ## do the slicing operation to reverse the text \n",
    "        return True\n",
    "    else:\n",
    "        return False\n",
    "    \n",
    "is_palindrome(\"racecar\")\n"
   ]
  }
 ],
 "metadata": {
  "kernelspec": {
   "display_name": ".venv",
   "language": "python",
   "name": "python3"
  },
  "language_info": {
   "codemirror_mode": {
    "name": "ipython",
    "version": 3
   },
   "file_extension": ".py",
   "mimetype": "text/x-python",
   "name": "python",
   "nbconvert_exporter": "python",
   "pygments_lexer": "ipython3",
   "version": "3.13.0"
  }
 },
 "nbformat": 4,
 "nbformat_minor": 2
}
