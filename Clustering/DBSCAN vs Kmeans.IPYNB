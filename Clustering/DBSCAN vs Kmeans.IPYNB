{
 "cells": [
  {
   "cell_type": "code",
   "execution_count": 9,
   "metadata": {},
   "outputs": [],
   "source": [
    "import pandas as pd\n",
    "from matplotlib import pyplot as plt\n",
    "from sklearn.cluster import DBSCAN \n",
    "from sklearn.cluster import KMeans\n",
    "from sklearn import datasets\n",
    "import warnings\n",
    "warnings.filterwarnings('ignore')\n"
   ]
  },
  {
   "cell_type": "code",
   "execution_count": 10,
   "metadata": {},
   "outputs": [
    {
     "data": {
      "text/plain": [
       "(array([[ 9.03976974e-01, -4.95379113e-01],\n",
       "        [ 3.76510198e-01, -2.81831482e-01],\n",
       "        [ 8.01413622e-01,  5.98110530e-01],\n",
       "        [ 3.20515776e-02,  9.99486216e-01],\n",
       "        [ 1.61911895e-01, -4.55349012e-02],\n",
       "        [ 1.03205158e+00, -4.99486216e-01],\n",
       "        [ 7.30832427e-02,  1.24732995e-01],\n",
       "        [-5.18392568e-01,  8.55142763e-01],\n",
       "        [-9.26916757e-01,  3.75267005e-01],\n",
       "        [ 1.40478334e+00, -4.14412623e-01],\n",
       "        [-6.72300890e-01,  7.40277997e-01],\n",
       "        [ 6.23489802e-01,  7.81831482e-01],\n",
       "        [ 9.91790014e-01,  1.27877162e-01],\n",
       "        [ 1.90096887e+00,  6.61162609e-02],\n",
       "        [-1.59599895e-01,  9.87181783e-01],\n",
       "        [ 1.22252093e+00, -4.74927912e-01],\n",
       "        [-1.00000000e+00,  1.22464680e-16],\n",
       "        [ 1.99179001e+00,  3.72122838e-01],\n",
       "        [-2.22520934e-01,  9.74927912e-01],\n",
       "        [ 9.97945393e-01,  6.40702200e-02],\n",
       "        [ 1.57211666e+00, -3.20172255e-01],\n",
       "        [ 1.67230089e+00, -2.40277997e-01],\n",
       "        [ 1.28681296e-01,  9.28244800e-03],\n",
       "        [ 1.98586378e-01, -9.81105305e-02],\n",
       "        [ 4.04783343e-01,  9.14412623e-01],\n",
       "        [-8.01413622e-01,  5.98110530e-01],\n",
       "        [ 9.49055747e-01,  3.15108218e-01],\n",
       "        [ 2.05460725e-03,  4.35929780e-01],\n",
       "        [ 1.46253829e+00, -3.86599306e-01],\n",
       "        [-9.49055747e-01,  3.15108218e-01],\n",
       "        [ 1.84408430e-02,  3.08841371e-01],\n",
       "        [ 7.18349350e-01,  6.95682551e-01],\n",
       "        [ 7.77479066e-01, -4.74927912e-01],\n",
       "        [-9.91790014e-01,  1.27877162e-01],\n",
       "        [-9.67294863e-01,  2.53654584e-01],\n",
       "        [ 2.00000000e+00,  5.00000000e-01],\n",
       "        [ 1.00000000e+00,  0.00000000e+00],\n",
       "        [ 5.18392568e-01,  8.55142763e-01],\n",
       "        [ 1.34536505e+00, -4.38468422e-01],\n",
       "        [ 1.92691676e+00,  1.24732995e-01],\n",
       "        [ 5.95216657e-01, -4.14412623e-01],\n",
       "        [ 9.60230259e-02,  9.95379113e-01],\n",
       "        [ 2.22520934e-01,  9.74927912e-01],\n",
       "        [ 8.20998618e-03,  3.72122838e-01],\n",
       "        [ 1.87131870e+00,  9.28244800e-03],\n",
       "        [ 8.38088105e-01,  5.45534901e-01],\n",
       "        [ 7.15472413e-01, -4.58667853e-01],\n",
       "        [ 4.62538290e-01,  8.86599306e-01],\n",
       "        [-4.62538290e-01,  8.86599306e-01],\n",
       "        [ 6.72300890e-01,  7.40277997e-01],\n",
       "        [ 4.27883340e-01, -3.20172255e-01],\n",
       "        [-2.84527587e-01,  9.58667853e-01],\n",
       "        [ 3.45365054e-01,  9.38468422e-01],\n",
       "        [ 1.09602303e+00, -4.95379113e-01],\n",
       "        [ 2.81650650e-01, -1.95682551e-01],\n",
       "        [ 1.71834935e+00, -1.95682551e-01],\n",
       "        [ 1.98155916e+00,  3.08841371e-01],\n",
       "        [ 1.94905575e+00,  1.84891782e-01],\n",
       "        [ 8.71318704e-01,  4.90717552e-01],\n",
       "        [ 1.59599895e-01,  9.87181783e-01],\n",
       "        [-9.97945393e-01,  6.40702200e-02],\n",
       "        [-3.45365054e-01,  9.38468422e-01],\n",
       "        [ 1.15959990e+00, -4.87181783e-01],\n",
       "        [-9.00968868e-01,  4.33883739e-01],\n",
       "        [ 1.51839257e+00, -3.55142763e-01],\n",
       "        [ 3.27699110e-01, -2.40277997e-01],\n",
       "        [ 1.76144596e+00, -1.48228395e-01],\n",
       "        [ 5.72116660e-01,  8.20172255e-01],\n",
       "        [-9.60230259e-02,  9.95379113e-01],\n",
       "        [ 5.09442530e-02,  1.84891782e-01],\n",
       "        [ 2.84527587e-01,  9.58667853e-01],\n",
       "        [-3.20515776e-02,  9.99486216e-01],\n",
       "        [ 9.67294863e-01,  2.53654584e-01],\n",
       "        [-7.18349350e-01,  6.95682551e-01],\n",
       "        [-6.23489802e-01,  7.81831482e-01],\n",
       "        [ 1.83808810e+00, -4.55349012e-02],\n",
       "        [ 1.99794539e+00,  4.35929780e-01],\n",
       "        [-8.71318704e-01,  4.90717552e-01],\n",
       "        [ 1.28452759e+00, -4.58667853e-01],\n",
       "        [-4.04783343e-01,  9.14412623e-01],\n",
       "        [-7.61445958e-01,  6.48228395e-01],\n",
       "        [ 7.61445958e-01,  6.48228395e-01],\n",
       "        [ 1.80141362e+00, -9.81105305e-02],\n",
       "        [-8.38088105e-01,  5.45534901e-01],\n",
       "        [ 1.96729486e+00,  2.46345416e-01],\n",
       "        [ 3.27051370e-02,  2.46345416e-01],\n",
       "        [ 0.00000000e+00,  5.00000000e-01],\n",
       "        [ 1.62348980e+00, -2.81831482e-01],\n",
       "        [-9.81559157e-01,  1.91158629e-01],\n",
       "        [ 8.40400105e-01, -4.87181783e-01],\n",
       "        [ 4.81607432e-01, -3.55142763e-01],\n",
       "        [ 9.67948422e-01, -4.99486216e-01],\n",
       "        [ 5.37461710e-01, -3.86599306e-01],\n",
       "        [-5.72116660e-01,  8.20172255e-01],\n",
       "        [ 6.54634946e-01, -4.38468422e-01],\n",
       "        [ 9.90311321e-02,  6.61162609e-02],\n",
       "        [ 9.26916757e-01,  3.75267005e-01],\n",
       "        [ 2.38554042e-01, -1.48228395e-01],\n",
       "        [ 9.00968868e-01,  4.33883739e-01],\n",
       "        [ 9.81559157e-01,  1.91158629e-01]]),\n",
       " array([1, 1, 0, 0, 1, 1, 1, 0, 0, 1, 0, 0, 0, 1, 0, 1, 0, 1, 0, 0, 1, 1,\n",
       "        1, 1, 0, 0, 0, 1, 1, 0, 1, 0, 1, 0, 0, 1, 0, 0, 1, 1, 1, 0, 0, 1,\n",
       "        1, 0, 1, 0, 0, 0, 1, 0, 0, 1, 1, 1, 1, 1, 0, 0, 0, 0, 1, 0, 1, 1,\n",
       "        1, 0, 0, 1, 0, 0, 0, 0, 0, 1, 1, 0, 1, 0, 0, 0, 1, 0, 1, 1, 1, 1,\n",
       "        0, 1, 1, 1, 1, 0, 1, 1, 0, 1, 0, 0]))"
      ]
     },
     "execution_count": 10,
     "metadata": {},
     "output_type": "execute_result"
    }
   ],
   "source": [
    "datasets.make_moons()"
   ]
  },
  {
   "cell_type": "code",
   "execution_count": 5,
   "metadata": {},
   "outputs": [
    {
     "data": {
      "text/html": [
       "<div>\n",
       "<style scoped>\n",
       "    .dataframe tbody tr th:only-of-type {\n",
       "        vertical-align: middle;\n",
       "    }\n",
       "\n",
       "    .dataframe tbody tr th {\n",
       "        vertical-align: top;\n",
       "    }\n",
       "\n",
       "    .dataframe thead th {\n",
       "        text-align: right;\n",
       "    }\n",
       "</style>\n",
       "<table border=\"1\" class=\"dataframe\">\n",
       "  <thead>\n",
       "    <tr style=\"text-align: right;\">\n",
       "      <th></th>\n",
       "      <th>0</th>\n",
       "      <th>1</th>\n",
       "    </tr>\n",
       "  </thead>\n",
       "  <tbody>\n",
       "    <tr>\n",
       "      <th>0</th>\n",
       "      <td>0.623490</td>\n",
       "      <td>0.781831</td>\n",
       "    </tr>\n",
       "    <tr>\n",
       "      <th>1</th>\n",
       "      <td>1.159600</td>\n",
       "      <td>-0.487182</td>\n",
       "    </tr>\n",
       "    <tr>\n",
       "      <th>2</th>\n",
       "      <td>0.161912</td>\n",
       "      <td>-0.045535</td>\n",
       "    </tr>\n",
       "    <tr>\n",
       "      <th>3</th>\n",
       "      <td>0.281651</td>\n",
       "      <td>-0.195683</td>\n",
       "    </tr>\n",
       "    <tr>\n",
       "      <th>4</th>\n",
       "      <td>0.345365</td>\n",
       "      <td>0.938468</td>\n",
       "    </tr>\n",
       "  </tbody>\n",
       "</table>\n",
       "</div>"
      ],
      "text/plain": [
       "          0         1\n",
       "0  0.623490  0.781831\n",
       "1  1.159600 -0.487182\n",
       "2  0.161912 -0.045535\n",
       "3  0.281651 -0.195683\n",
       "4  0.345365  0.938468"
      ]
     },
     "execution_count": 5,
     "metadata": {},
     "output_type": "execute_result"
    }
   ],
   "source": [
    "x,y=make_moons(100)\n",
    "data=pd.DataFrame(x)\n",
    "data.head()"
   ]
  },
  {
   "cell_type": "code",
   "execution_count": 6,
   "metadata": {},
   "outputs": [],
   "source": [
    "data.columns = ['f1','f2']"
   ]
  },
  {
   "cell_type": "code",
   "execution_count": 7,
   "metadata": {},
   "outputs": [
    {
     "data": {
      "text/html": [
       "<div>\n",
       "<style scoped>\n",
       "    .dataframe tbody tr th:only-of-type {\n",
       "        vertical-align: middle;\n",
       "    }\n",
       "\n",
       "    .dataframe tbody tr th {\n",
       "        vertical-align: top;\n",
       "    }\n",
       "\n",
       "    .dataframe thead th {\n",
       "        text-align: right;\n",
       "    }\n",
       "</style>\n",
       "<table border=\"1\" class=\"dataframe\">\n",
       "  <thead>\n",
       "    <tr style=\"text-align: right;\">\n",
       "      <th></th>\n",
       "      <th>f1</th>\n",
       "      <th>f2</th>\n",
       "    </tr>\n",
       "  </thead>\n",
       "  <tbody>\n",
       "    <tr>\n",
       "      <th>0</th>\n",
       "      <td>0.623490</td>\n",
       "      <td>0.781831</td>\n",
       "    </tr>\n",
       "    <tr>\n",
       "      <th>1</th>\n",
       "      <td>1.159600</td>\n",
       "      <td>-0.487182</td>\n",
       "    </tr>\n",
       "    <tr>\n",
       "      <th>2</th>\n",
       "      <td>0.161912</td>\n",
       "      <td>-0.045535</td>\n",
       "    </tr>\n",
       "    <tr>\n",
       "      <th>3</th>\n",
       "      <td>0.281651</td>\n",
       "      <td>-0.195683</td>\n",
       "    </tr>\n",
       "    <tr>\n",
       "      <th>4</th>\n",
       "      <td>0.345365</td>\n",
       "      <td>0.938468</td>\n",
       "    </tr>\n",
       "  </tbody>\n",
       "</table>\n",
       "</div>"
      ],
      "text/plain": [
       "         f1        f2\n",
       "0  0.623490  0.781831\n",
       "1  1.159600 -0.487182\n",
       "2  0.161912 -0.045535\n",
       "3  0.281651 -0.195683\n",
       "4  0.345365  0.938468"
      ]
     },
     "execution_count": 7,
     "metadata": {},
     "output_type": "execute_result"
    }
   ],
   "source": [
    "data.head()"
   ]
  },
  {
   "cell_type": "code",
   "execution_count": 11,
   "metadata": {},
   "outputs": [
    {
     "data": {
      "text/plain": [
       "<matplotlib.collections.PathCollection at 0x2255cc22990>"
      ]
     },
     "execution_count": 11,
     "metadata": {},
     "output_type": "execute_result"
    },
    {
     "data": {
      "image/png": "[encoded data removed]",
      "text/plain": [
       "<Figure size 640x480 with 1 Axes>"
      ]
     },
     "metadata": {},
     "output_type": "display_data"
    }
   ],
   "source": [
    "plt.scatter(data['f1'], data['f2'],cmap=plt.cm.Accent)"
   ]
  },
  {
   "cell_type": "code",
   "execution_count": 13,
   "metadata": {},
   "outputs": [],
   "source": [
    "data[\"class\"]=y"
   ]
  },
  {
   "cell_type": "markdown",
   "metadata": {},
   "source": [
    "### With DBSCAN Clustering"
   ]
  },
  {
   "cell_type": "code",
   "execution_count": 14,
   "metadata": {},
   "outputs": [],
   "source": [
    "dbs=DBSCAN(min_samples=2,eps=0.2) #min_samples is m/n\n",
    "claas_pr=dbs.fit_predict(data.iloc[:,:2])"
   ]
  },
  {
   "cell_type": "code",
   "execution_count": 15,
   "metadata": {},
   "outputs": [
    {
     "data": {
      "text/html": [
       "<div>\n",
       "<style scoped>\n",
       "    .dataframe tbody tr th:only-of-type {\n",
       "        vertical-align: middle;\n",
       "    }\n",
       "\n",
       "    .dataframe tbody tr th {\n",
       "        vertical-align: top;\n",
       "    }\n",
       "\n",
       "    .dataframe thead th {\n",
       "        text-align: right;\n",
       "    }\n",
       "</style>\n",
       "<table border=\"1\" class=\"dataframe\">\n",
       "  <thead>\n",
       "    <tr style=\"text-align: right;\">\n",
       "      <th></th>\n",
       "      <th>f1</th>\n",
       "      <th>f2</th>\n",
       "      <th>class</th>\n",
       "      <th>class_pr</th>\n",
       "    </tr>\n",
       "  </thead>\n",
       "  <tbody>\n",
       "    <tr>\n",
       "      <th>0</th>\n",
       "      <td>0.623490</td>\n",
       "      <td>0.781831</td>\n",
       "      <td>0</td>\n",
       "      <td>0</td>\n",
       "    </tr>\n",
       "    <tr>\n",
       "      <th>1</th>\n",
       "      <td>1.159600</td>\n",
       "      <td>-0.487182</td>\n",
       "      <td>1</td>\n",
       "      <td>1</td>\n",
       "    </tr>\n",
       "    <tr>\n",
       "      <th>2</th>\n",
       "      <td>0.161912</td>\n",
       "      <td>-0.045535</td>\n",
       "      <td>1</td>\n",
       "      <td>1</td>\n",
       "    </tr>\n",
       "    <tr>\n",
       "      <th>3</th>\n",
       "      <td>0.281651</td>\n",
       "      <td>-0.195683</td>\n",
       "      <td>1</td>\n",
       "      <td>1</td>\n",
       "    </tr>\n",
       "    <tr>\n",
       "      <th>4</th>\n",
       "      <td>0.345365</td>\n",
       "      <td>0.938468</td>\n",
       "      <td>0</td>\n",
       "      <td>0</td>\n",
       "    </tr>\n",
       "    <tr>\n",
       "      <th>...</th>\n",
       "      <td>...</td>\n",
       "      <td>...</td>\n",
       "      <td>...</td>\n",
       "      <td>...</td>\n",
       "    </tr>\n",
       "    <tr>\n",
       "      <th>95</th>\n",
       "      <td>1.572117</td>\n",
       "      <td>-0.320172</td>\n",
       "      <td>1</td>\n",
       "      <td>1</td>\n",
       "    </tr>\n",
       "    <tr>\n",
       "      <th>96</th>\n",
       "      <td>0.967295</td>\n",
       "      <td>0.253655</td>\n",
       "      <td>0</td>\n",
       "      <td>0</td>\n",
       "    </tr>\n",
       "    <tr>\n",
       "      <th>97</th>\n",
       "      <td>0.801414</td>\n",
       "      <td>0.598111</td>\n",
       "      <td>0</td>\n",
       "      <td>0</td>\n",
       "    </tr>\n",
       "    <tr>\n",
       "      <th>98</th>\n",
       "      <td>1.518393</td>\n",
       "      <td>-0.355143</td>\n",
       "      <td>1</td>\n",
       "      <td>1</td>\n",
       "    </tr>\n",
       "    <tr>\n",
       "      <th>99</th>\n",
       "      <td>0.032705</td>\n",
       "      <td>0.246345</td>\n",
       "      <td>1</td>\n",
       "      <td>1</td>\n",
       "    </tr>\n",
       "  </tbody>\n",
       "</table>\n",
       "<p>100 rows × 4 columns</p>\n",
       "</div>"
      ],
      "text/plain": [
       "          f1        f2  class  class_pr\n",
       "0   0.623490  0.781831      0         0\n",
       "1   1.159600 -0.487182      1         1\n",
       "2   0.161912 -0.045535      1         1\n",
       "3   0.281651 -0.195683      1         1\n",
       "4   0.345365  0.938468      0         0\n",
       "..       ...       ...    ...       ...\n",
       "95  1.572117 -0.320172      1         1\n",
       "96  0.967295  0.253655      0         0\n",
       "97  0.801414  0.598111      0         0\n",
       "98  1.518393 -0.355143      1         1\n",
       "99  0.032705  0.246345      1         1\n",
       "\n",
       "[100 rows x 4 columns]"
      ]
     },
     "execution_count": 15,
     "metadata": {},
     "output_type": "execute_result"
    }
   ],
   "source": [
    "data[\"class_pr\"]=claas_pr\n",
    "data"
   ]
  },
  {
   "cell_type": "code",
   "execution_count": 16,
   "metadata": {},
   "outputs": [
    {
     "data": {
      "text/plain": [
       "Text(0, 0.5, 'f2')"
      ]
     },
     "execution_count": 16,
     "metadata": {},
     "output_type": "execute_result"
    },
    {
     "data": {
      "image/png": "[encoded data removed]",
      "text/plain": [
       "<Figure size 640x480 with 1 Axes>"
      ]
     },
     "metadata": {},
     "output_type": "display_data"
    }
   ],
   "source": [
    "plt.scatter(data[\"f1\"],data[\"f2\"],c=data[\"class_pr\"],cmap=plt.cm.Accent)\n",
    "plt.xlabel(\"f1\")\n",
    "plt.ylabel(\"f2\")"
   ]
  }
 ],
 "metadata": {
  "kernelspec": {
   "display_name": ".venv",
   "language": "python",
   "name": "python3"
  },
  "language_info": {
   "codemirror_mode": {
    "name": "ipython",
    "version": 3
   },
   "file_extension": ".py",
   "mimetype": "text/x-python",
   "name": "python",
   "nbconvert_exporter": "python",
   "pygments_lexer": "ipython3",
   "version": "3.13.0"
  }
 },
 "nbformat": 4,
 "nbformat_minor": 2
}
