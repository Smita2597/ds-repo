{
 "cells": [
  {
   "cell_type": "markdown",
   "metadata": {},
   "source": [
    "### Chapter1: Printing first statement"
   ]
  },
  {
   "cell_type": "code",
   "execution_count": 2,
   "metadata": {},
   "outputs": [
    {
     "name": "stdout",
     "output_type": "stream",
     "text": [
      "Hello World\n"
     ]
    }
   ],
   "source": [
    "print(\"Hello World\")"
   ]
  },
  {
   "cell_type": "code",
   "execution_count": 3,
   "metadata": {},
   "outputs": [],
   "source": [
    "element = (\"Smita\",\"Chetan\",\"John\",\"Smith\")"
   ]
  },
  {
   "cell_type": "code",
   "execution_count": 4,
   "metadata": {},
   "outputs": [
    {
     "data": {
      "text/plain": [
       "('Smita', 'Chetan', 'John', 'Smith')"
      ]
     },
     "execution_count": 4,
     "metadata": {},
     "output_type": "execute_result"
    }
   ],
   "source": [
    "element"
   ]
  },
  {
   "cell_type": "code",
   "execution_count": 5,
   "metadata": {},
   "outputs": [
    {
     "name": "stdout",
     "output_type": "stream",
     "text": [
      "('Smita', 'Chetan', 'John', 'Smith')\n"
     ]
    }
   ],
   "source": [
    "print(element)"
   ]
  },
  {
   "cell_type": "code",
   "execution_count": 6,
   "metadata": {},
   "outputs": [
    {
     "data": {
      "text/plain": [
       "'Smith'"
      ]
     },
     "execution_count": 6,
     "metadata": {},
     "output_type": "execute_result"
    }
   ],
   "source": [
    "element[3]"
   ]
  },
  {
   "cell_type": "code",
   "execution_count": 7,
   "metadata": {},
   "outputs": [
    {
     "data": {
      "text/plain": [
       "'John'"
      ]
     },
     "execution_count": 7,
     "metadata": {},
     "output_type": "execute_result"
    }
   ],
   "source": [
    "element[-2]"
   ]
  },
  {
   "cell_type": "code",
   "execution_count": 8,
   "metadata": {},
   "outputs": [
    {
     "data": {
      "text/plain": [
       "4"
      ]
     },
     "execution_count": 8,
     "metadata": {},
     "output_type": "execute_result"
    }
   ],
   "source": [
    "len(element)"
   ]
  },
  {
   "cell_type": "code",
   "execution_count": 9,
   "metadata": {},
   "outputs": [
    {
     "data": {
      "text/plain": [
       "('Smita', 'Chetan', 'John')"
      ]
     },
     "execution_count": 9,
     "metadata": {},
     "output_type": "execute_result"
    }
   ],
   "source": [
    "element[0:3]"
   ]
  },
  {
   "cell_type": "code",
   "execution_count": 10,
   "metadata": {},
   "outputs": [
    {
     "data": {
      "text/plain": [
       "('Chetan', 'John', 'Smith')"
      ]
     },
     "execution_count": 10,
     "metadata": {},
     "output_type": "execute_result"
    }
   ],
   "source": [
    "element[1:]"
   ]
  },
  {
   "cell_type": "markdown",
   "metadata": {},
   "source": [
    "##### Chapter2: String and String Methods"
   ]
  },
  {
   "cell_type": "code",
   "execution_count": 11,
   "metadata": {},
   "outputs": [
    {
     "data": {
      "text/plain": [
       "int"
      ]
     },
     "execution_count": 11,
     "metadata": {},
     "output_type": "execute_result"
    }
   ],
   "source": [
    "india_score = 168\n",
    "type(india_score)"
   ]
  },
  {
   "cell_type": "code",
   "execution_count": 12,
   "metadata": {},
   "outputs": [
    {
     "data": {
      "text/plain": [
       "float"
      ]
     },
     "execution_count": 12,
     "metadata": {},
     "output_type": "execute_result"
    }
   ],
   "source": [
    "india_avg_run_rate = 8.9\n",
    "type(india_avg_run_rate)"
   ]
  },
  {
   "cell_type": "code",
   "execution_count": 13,
   "metadata": {},
   "outputs": [
    {
     "data": {
      "text/plain": [
       "str"
      ]
     },
     "execution_count": 13,
     "metadata": {},
     "output_type": "execute_result"
    }
   ],
   "source": [
    "avg_marks = '88.50'\n",
    "type(avg_marks)"
   ]
  },
  {
   "cell_type": "code",
   "execution_count": 14,
   "metadata": {},
   "outputs": [],
   "source": [
    "person_1 = \"Smita\"\n",
    "person_2 = \"Narkhede\"\n",
    "person_3 = \"John\""
   ]
  },
  {
   "cell_type": "code",
   "execution_count": 15,
   "metadata": {},
   "outputs": [
    {
     "data": {
      "text/plain": [
       "'John'"
      ]
     },
     "execution_count": 15,
     "metadata": {},
     "output_type": "execute_result"
    }
   ],
   "source": [
    "person_1\n",
    "person_2\n",
    "person_3"
   ]
  },
  {
   "cell_type": "code",
   "execution_count": 16,
   "metadata": {},
   "outputs": [
    {
     "name": "stdout",
     "output_type": "stream",
     "text": [
      "Smita\n",
      "Narkhede\n",
      "John\n"
     ]
    }
   ],
   "source": [
    "print(person_1)\n",
    "print(person_2)\n",
    "print(person_3)"
   ]
  },
  {
   "cell_type": "code",
   "execution_count": 17,
   "metadata": {},
   "outputs": [],
   "source": [
    "fname =  \"Smita\"\n",
    "lname = \"Narkhede\"\n",
    "full_name = \"Smita Narkhede\""
   ]
  },
  {
   "cell_type": "code",
   "execution_count": 18,
   "metadata": {},
   "outputs": [
    {
     "name": "stdout",
     "output_type": "stream",
     "text": [
      "36\n"
     ]
    }
   ],
   "source": [
    "first_number = int(input(\"Enter first number: \"))\n",
    "second_number = int(input(\"Enter second number: \"))\n",
    "addition = first_number + second_number\n",
    "print(addition)"
   ]
  },
  {
   "cell_type": "markdown",
   "metadata": {},
   "source": [
    "### String Methods"
   ]
  },
  {
   "cell_type": "markdown",
   "metadata": {},
   "source": [
    "##### capitalize() -  capitalizes the first character of the string"
   ]
  },
  {
   "cell_type": "code",
   "execution_count": null,
   "metadata": {},
   "outputs": [
    {
     "name": "stdout",
     "output_type": "stream",
     "text": [
      "Python\n",
      "India\n"
     ]
    }
   ],
   "source": [
    "#Example1: \n",
    "language = \"python\"\n",
    "print(language.capitalize())\n",
    "\n",
    "#Example 2:\n",
    "country = \"india\"\n",
    "print(country.capitalize())"
   ]
  },
  {
   "cell_type": "markdown",
   "metadata": {},
   "source": [
    "##### lower() - converts all the characters into lowercase"
   ]
  },
  {
   "cell_type": "code",
   "execution_count": null,
   "metadata": {},
   "outputs": [
    {
     "name": "stdout",
     "output_type": "stream",
     "text": [
      "python\n",
      "india\n"
     ]
    }
   ],
   "source": [
    "#Example 1:\n",
    "language = \"PYTHON\"\n",
    "print(language.lower())\n",
    "\n",
    "#Example 2:\n",
    "country = \"InDia\"\n",
    "print(country.lower())\n"
   ]
  },
  {
   "cell_type": "markdown",
   "metadata": {},
   "source": [
    "##### upper() - converts all the characters into upper"
   ]
  },
  {
   "cell_type": "code",
   "execution_count": 25,
   "metadata": {},
   "outputs": [
    {
     "name": "stdout",
     "output_type": "stream",
     "text": [
      "PUNE\n",
      "MAHARASHTRA\n"
     ]
    }
   ],
   "source": [
    "#Example 1:\n",
    "city = \"pune\"\n",
    "print(city.upper())\n",
    "\n",
    "#Example 2:\n",
    "state = \"MahAraShtRa\"\n",
    "print(state.upper())"
   ]
  },
  {
   "cell_type": "markdown",
   "metadata": {},
   "source": [
    "##### title() - converts the fisrt character of each word to uppercase"
   ]
  },
  {
   "cell_type": "code",
   "execution_count": 26,
   "metadata": {},
   "outputs": [
    {
     "name": "stdout",
     "output_type": "stream",
     "text": [
      "Python Is A Dynamic Programming Language\n",
      "Hello World\n"
     ]
    }
   ],
   "source": [
    "#Example 1:\n",
    "sentence = \"Python is a dynamic programming language\"\n",
    "print(sentence.title())\n",
    "\n",
    "#Example 2:\n",
    "text = \"hello world\"\n",
    "print(text.title())"
   ]
  },
  {
   "cell_type": "markdown",
   "metadata": {},
   "source": [
    "##### strip() - removes whitespaces"
   ]
  },
  {
   "cell_type": "code",
   "execution_count": null,
   "metadata": {},
   "outputs": [
    {
     "name": "stdout",
     "output_type": "stream",
     "text": [
      "Python is a dynamic programming language\n",
      "hello   world\n"
     ]
    }
   ],
   "source": [
    "#Example 1:\n",
    "sentence = \"    Python is a dynamic programming language  \"\n",
    "print(sentence.strip())\n",
    "\n",
    "#Example 2:\n",
    "text = \"  hello   world  \"        ##only removes whitespace at start and end\n",
    "print(text.strip())"
   ]
  },
  {
   "cell_type": "markdown",
   "metadata": {},
   "source": [
    "##### replace(old, new) - replace all occurences of old string into new string"
   ]
  },
  {
   "cell_type": "code",
   "execution_count": 49,
   "metadata": {},
   "outputs": [
    {
     "name": "stdout",
     "output_type": "stream",
     "text": [
      "Java is a programming language\n",
      "My name is Smita.Smita is learning Python.Python is a programming language\n"
     ]
    }
   ],
   "source": [
    "#EX.1\n",
    "sentence = \"Python is a programming language\"\n",
    "print(sentence.replace(\"Python\",\"Java\"))\n",
    "\n",
    "#Ex.2\n",
    "text = \"My name is siri+siri is learning Java+Java is a programming language\"\n",
    "print(text.replace(\"siri\",\"Smita\").replace(\"+\",\".\").replace(\"Java\",\"Python\"))\n",
    "\n"
   ]
  },
  {
   "cell_type": "markdown",
   "metadata": {},
   "source": [
    "##### split() - seperates string"
   ]
  },
  {
   "cell_type": "code",
   "execution_count": 52,
   "metadata": {},
   "outputs": [
    {
     "name": "stdout",
     "output_type": "stream",
     "text": [
      "['Python', 'is', 'a', 'programming', 'language']\n",
      "['Hello', 'World']\n",
      "['Smita']\n"
     ]
    }
   ],
   "source": [
    "#Ex 1:\n",
    "sentence = \"Python is a programming language\"\n",
    "print(sentence.split())\n",
    "\n",
    "#Ex 2:\n",
    "text = \"Hello World\"\n",
    "print(text.split())\n",
    "\n",
    "fname = \"Smita\"\n",
    "print(fname.split())"
   ]
  },
  {
   "cell_type": "markdown",
   "metadata": {},
   "source": [
    "##### concatenation- use to combine characters"
   ]
  },
  {
   "cell_type": "code",
   "execution_count": 54,
   "metadata": {},
   "outputs": [
    {
     "name": "stdout",
     "output_type": "stream",
     "text": [
      "HelloWorld\n",
      "Smita Narkhede\n"
     ]
    }
   ],
   "source": [
    "#Ex1: \n",
    "text1 = \"Hello\"\n",
    "text2 = \"World\"\n",
    "print(text1+text2)\n",
    "\n",
    "#Ex2:\n",
    "fname = \"Smita\"\n",
    "lname = \"Narkhede\"\n",
    "print(fname +\" \" + lname)"
   ]
  },
  {
   "cell_type": "markdown",
   "metadata": {},
   "source": [
    "##### startswith() - checks if the strings starts with specified prefix"
   ]
  },
  {
   "cell_type": "code",
   "execution_count": 57,
   "metadata": {},
   "outputs": [
    {
     "name": "stdout",
     "output_type": "stream",
     "text": [
      "True\n",
      "False\n",
      "True\n"
     ]
    }
   ],
   "source": [
    "#Ex1: \n",
    "fname = \"Smita\"\n",
    "print(fname.startswith(\"S\"))\n",
    "\n",
    "#Ex2: \n",
    "lname = \"Narkhede\"\n",
    "print(lname.startswith(\"n\"))\n",
    "\n",
    "#Ex3:  \n",
    "lname = \"Narkhede\"\n",
    "print(lname.startswith(\"N\"))"
   ]
  },
  {
   "cell_type": "markdown",
   "metadata": {},
   "source": [
    "##### endswith(suffix) - checks if the strings ends with specified suffix"
   ]
  },
  {
   "cell_type": "code",
   "execution_count": 60,
   "metadata": {},
   "outputs": [
    {
     "name": "stdout",
     "output_type": "stream",
     "text": [
      "False\n",
      "True\n"
     ]
    }
   ],
   "source": [
    "text = \"Hello World\"\n",
    "print(text.endswith(\"world\"))\n",
    "\n",
    "sentence = \"India is my Country\"\n",
    "print(sentence.endswith(\"y\"))"
   ]
  },
  {
   "cell_type": "markdown",
   "metadata": {},
   "source": [
    "### Taking input from user for arithmatic operations"
   ]
  },
  {
   "cell_type": "code",
   "execution_count": 1,
   "metadata": {},
   "outputs": [
    {
     "name": "stdout",
     "output_type": "stream",
     "text": [
      "20\n"
     ]
    }
   ],
   "source": [
    "a = int(input(\"Enter first number: \"))\n",
    "b = int(input(\"Enter second number: \"))\n",
    "user = input(\"specify the type of operation want to specify: \")\n",
    "\n",
    "if user == \"addition\":\n",
    "    print(a+b)\n",
    "elif user == \"substraction\":\n",
    "    print(a-b)\n",
    "elif user == \"multiplication\":\n",
    "    print(a*b)\n",
    "elif user == \"division\":\n",
    "    print(a/b)\n",
    "else:\n",
    "    print(\"No input from user\")"
   ]
  },
  {
   "cell_type": "code",
   "execution_count": null,
   "metadata": {},
   "outputs": [],
   "source": []
  }
 ],
 "metadata": {
  "kernelspec": {
   "display_name": ".venv",
   "language": "python",
   "name": "python3"
  },
  "language_info": {
   "codemirror_mode": {
    "name": "ipython",
    "version": 3
   },
   "file_extension": ".py",
   "mimetype": "text/x-python",
   "name": "python",
   "nbconvert_exporter": "python",
   "pygments_lexer": "ipython3",
   "version": "3.13.0"
  }
 },
 "nbformat": 4,
 "nbformat_minor": 2
}
