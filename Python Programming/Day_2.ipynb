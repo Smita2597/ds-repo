{
 "cells": [
  {
   "cell_type": "markdown",
   "metadata": {},
   "source": [
    "#### Chapter 4: Functions and loop"
   ]
  },
  {
   "cell_type": "markdown",
   "metadata": {},
   "source": [
    "##### User defined functions"
   ]
  },
  {
   "cell_type": "code",
   "execution_count": 3,
   "metadata": {},
   "outputs": [],
   "source": [
    "#function defination\n",
    "def get_details():\n",
    "    print(\"Hi, Good Morning\")"
   ]
  },
  {
   "cell_type": "code",
   "execution_count": 4,
   "metadata": {},
   "outputs": [
    {
     "name": "stdout",
     "output_type": "stream",
     "text": [
      "Hi, Good Morning\n"
     ]
    }
   ],
   "source": [
    "get_details()"
   ]
  },
  {
   "cell_type": "code",
   "execution_count": 5,
   "metadata": {},
   "outputs": [],
   "source": [
    "def text():\n",
    "    a = input(\"Enter your name: \")\n",
    "    return (len(a))"
   ]
  },
  {
   "cell_type": "code",
   "execution_count": 6,
   "metadata": {},
   "outputs": [
    {
     "data": {
      "text/plain": [
       "5"
      ]
     },
     "execution_count": 6,
     "metadata": {},
     "output_type": "execute_result"
    }
   ],
   "source": [
    "text()"
   ]
  },
  {
   "cell_type": "code",
   "execution_count": 13,
   "metadata": {},
   "outputs": [],
   "source": [
    "def get_employee_details(id_no, name, salary, company_name=\"TCS\"):\n",
    "    print(\"Emp ID:{}\\nEmp Name:{}\\nEmp Salary:{}\\nComapny Name:{}\".format(id_no,name,salary,company_name))\n"
   ]
  },
  {
   "cell_type": "code",
   "execution_count": 14,
   "metadata": {},
   "outputs": [
    {
     "name": "stdout",
     "output_type": "stream",
     "text": [
      "Emp ID:10\n",
      "Emp Name:Smita\n",
      "Emp Salary:20000\n",
      "Comapny Name:TCS\n"
     ]
    }
   ],
   "source": [
    "get_employee_details(10, \"Smita\", 20000,\"TCS\")"
   ]
  },
  {
   "cell_type": "code",
   "execution_count": 25,
   "metadata": {},
   "outputs": [
    {
     "name": "stdout",
     "output_type": "stream",
     "text": [
      "Incorrect password\n"
     ]
    }
   ],
   "source": [
    "password = input(\"Enter your password\")\n",
    "\n",
    "if (len(password)>= 8 ) and (password == \"@\") or (password == \"#\") or (password==\"$\"):\n",
    "    print(\"Password is correct\")\n",
    "else:\n",
    "    print(\"Incorrect password\")\n",
    " "
   ]
  },
  {
   "cell_type": "code",
   "execution_count": null,
   "metadata": {},
   "outputs": [],
   "source": [
    "## TASK - 2\n",
    "\n",
    "Submit 2 examples for each module.\n",
    "\n",
    "1. while loop\n",
    "\n",
    "2. for loop\n",
    "\n",
    "3. if and if else\n",
    "\n",
    "4. if elif else\n",
    "\n",
    "5. user defined functions without for loop, if condition\n",
    "\n",
    "6. user defined functions with for loop\n",
    "\n",
    "7. user defined functions with for loop and if condition\n",
    "\n",
    "8. break\n",
    "\n",
    "9. continue\n",
    "\n",
    "10. for loop with in operator\n",
    "\n",
    "11. for loop with if statement\n",
    "\n",
    "12. for loop with not in operator\n",
    "\n",
    "10. if with in operator\n",
    "\n",
    "11. if with not in opearator"
   ]
  }
 ],
 "metadata": {
  "kernelspec": {
   "display_name": ".venv",
   "language": "python",
   "name": "python3"
  },
  "language_info": {
   "codemirror_mode": {
    "name": "ipython",
    "version": 3
   },
   "file_extension": ".py",
   "mimetype": "text/x-python",
   "name": "python",
   "nbconvert_exporter": "python",
   "pygments_lexer": "ipython3",
   "version": "3.13.0"
  }
 },
 "nbformat": 4,
 "nbformat_minor": 2
}
