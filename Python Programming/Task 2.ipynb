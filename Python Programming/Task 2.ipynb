{
 "cells": [
  {
   "cell_type": "markdown",
   "metadata": {},
   "source": [
    "## TASK - 2\n",
    "\n",
    "Submit 2 examples for each module.\n",
    "\n",
    "1. while loop\n",
    "\n",
    "2. for loop\n",
    "\n",
    "3. if and if else\n",
    "\n",
    "4. if elif else\n",
    "\n",
    "5. user defined functions without for loop, if condition\n",
    "\n",
    "6. user defined functions with for loop\n",
    "\n",
    "7. user defined functions with for loop and if condition\n",
    "\n",
    "8. break\n",
    "\n",
    "9. continue\n",
    "\n",
    "10. for loop with in operator\n",
    "\n",
    "11. for loop with if statement\n",
    "\n",
    "12. for loop with not in operator\n",
    "\n",
    "10. if with in operator\n",
    "\n",
    "11. if with not in opearator"
   ]
  },
  {
   "cell_type": "markdown",
   "metadata": {},
   "source": [
    "##### 1.While Loop"
   ]
  },
  {
   "cell_type": "code",
   "execution_count": null,
   "metadata": {},
   "outputs": [],
   "source": [
    "#Check eligibility of election\n",
    "\n",
    "user_input = int(input(\"Enter your age: \"))\n",
    "while user_input >= 18:\n",
    "    print(\"Eligible for voting\")\n",
    "    break\n",
    "\n",
    "## print even number till the number given by user \n",
    "user_input1 = int(input(\"Enter your number: \"))\n",
    "i = 0\n",
    "while i <= user_input1:\n",
    "    if i%2==0:\n",
    "        print(\"Even Number: \",i)\n",
    "    i=i+1\n",
    "      "
   ]
  },
  {
   "cell_type": "markdown",
   "metadata": {},
   "source": [
    "##### 2 For Loop"
   ]
  },
  {
   "cell_type": "code",
   "execution_count": null,
   "metadata": {},
   "outputs": [],
   "source": [
    "#even number\n",
    "for i in range(0,11):\n",
    "    if i%2 == 0:\n",
    "        print(i)\n",
    "\n",
    "\n",
    "##sum of first 20 number\n",
    "sum = 0\n",
    "for i in range(0,20):\n",
    "    sum = sum+i\n",
    "\n",
    "print(\"Sum of first 20 number is:\",sum)"
   ]
  },
  {
   "cell_type": "markdown",
   "metadata": {},
   "source": [
    "##### 3. if and if else"
   ]
  },
  {
   "cell_type": "code",
   "execution_count": 22,
   "metadata": {},
   "outputs": [
    {
     "name": "stdout",
     "output_type": "stream",
     "text": [
      "Given number is a prime number\n"
     ]
    }
   ],
   "source": [
    "num = int(input(\"Enter your number: \"))\n",
    "\n",
    "if num == 0 and num == 1:\n",
    "    print(\"Given number is not a prime number\")\n",
    "\n",
    "flag = False\n",
    "for i in range(2,num):\n",
    "    if i%num==0:\n",
    "        flag = True\n",
    "        break\n",
    "if flag:\n",
    "    print(\"Given number is not a prime number\")\n",
    "else: \n",
    "    print(\"Given number is a prime number\")\n",
    "    "
   ]
  },
  {
   "cell_type": "code",
   "execution_count": null,
   "metadata": {},
   "outputs": [],
   "source": [
    "a = int(input(\"Enter first number: \"))\n",
    "b = int(input(\"Enter second number: \"))\n",
    "user = input(\"specify the type of operation want to specify: \")\n",
    "\n",
    "if user == \"addition\":\n",
    "    print(a+b)\n",
    "elif user == \"substraction\":\n",
    "    print(a-b)\n",
    "elif user == \"multiplication\":\n",
    "    print(a*b)\n",
    "elif user == \"division\":\n",
    "    print(a/b)\n",
    "else:\n",
    "    print(\"No input from user\")"
   ]
  },
  {
   "cell_type": "code",
   "execution_count": 35,
   "metadata": {},
   "outputs": [
    {
     "name": "stdout",
     "output_type": "stream",
     "text": [
      "Given name is correct\n"
     ]
    }
   ],
   "source": [
    "def text(name):\n",
    "    if name.startswith('S') or name.startswith('s'):\n",
    "        print(\"Given name is correct\")\n",
    "    else:\n",
    "        print(\"Enter another name\")\n",
    "\n",
    "text(\"smita\")\n",
    "   "
   ]
  },
  {
   "cell_type": "code",
   "execution_count": null,
   "metadata": {},
   "outputs": [],
   "source": []
  }
 ],
 "metadata": {
  "kernelspec": {
   "display_name": ".venv",
   "language": "python",
   "name": "python3"
  },
  "language_info": {
   "codemirror_mode": {
    "name": "ipython",
    "version": 3
   },
   "file_extension": ".py",
   "mimetype": "text/x-python",
   "name": "python",
   "nbconvert_exporter": "python",
   "pygments_lexer": "ipython3",
   "version": "3.13.0"
  }
 },
 "nbformat": 4,
 "nbformat_minor": 2
}
