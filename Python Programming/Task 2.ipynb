{
 "cells": [
  {
   "cell_type": "markdown",
   "metadata": {},
   "source": [
    "## TASK - 2\n",
    "\n",
    "Submit 2 examples for each module.\n",
    "\n",
    "1. while loop\n",
    "\n",
    "2. for loop\n",
    "\n",
    "3. if and if else\n",
    "\n",
    "4. if elif else\n",
    "\n",
    "5. user defined functions without for loop, if condition\n",
    "\n",
    "6. user defined functions with for loop\n",
    "\n",
    "7. user defined functions with for loop and if condition\n",
    "\n",
    "8. break\n",
    "\n",
    "9. continue\n",
    "\n",
    "10. for loop with in operator\n",
    "\n",
    "11. for loop with if statement\n",
    "\n",
    "12. for loop with not in operator\n",
    "\n",
    "10. if with in operator\n",
    "\n",
    "11. if with not in opearator"
   ]
  },
  {
   "cell_type": "markdown",
   "metadata": {},
   "source": [
    "##### 1.While Loop"
   ]
  },
  {
   "cell_type": "code",
   "execution_count": 3,
   "metadata": {},
   "outputs": [],
   "source": [
    "#Check eligibility of election\n",
    "\n",
    "user_input = int(input(\"Enter your age: \"))\n",
    "while user_input >= 18:\n",
    "    print(\"Eligible for voting\")\n",
    "    break"
   ]
  },
  {
   "cell_type": "code",
   "execution_count": null,
   "metadata": {},
   "outputs": [
    {
     "name": "stdout",
     "output_type": "stream",
     "text": [
      "Even Number:  0\n",
      "Even Number:  2\n",
      "Even Number:  4\n",
      "Even Number:  6\n",
      "Even Number:  8\n",
      "Even Number:  10\n",
      "Even Number:  12\n",
      "Even Number:  14\n",
      "Even Number:  16\n",
      "Even Number:  18\n",
      "Even Number:  20\n"
     ]
    }
   ],
   "source": [
    "## print even number till the number given by user \n",
    "user_input1 = int(input(\"Enter your number: \"))\n",
    "i = 0\n",
    "while i <= user_input1:\n",
    "    if i%2==0:\n",
    "        print(\"Even Number: \",i)\n",
    "    i=i+1\n",
    "      "
   ]
  },
  {
   "cell_type": "markdown",
   "metadata": {},
   "source": [
    "##### 2 For Loop"
   ]
  },
  {
   "cell_type": "code",
   "execution_count": 4,
   "metadata": {},
   "outputs": [
    {
     "name": "stdout",
     "output_type": "stream",
     "text": [
      "0\n",
      "2\n",
      "4\n",
      "6\n",
      "8\n",
      "10\n",
      "Sum of first 20 number is: 190\n"
     ]
    }
   ],
   "source": [
    "#even number\n",
    "for i in range(0,11):\n",
    "    if i%2 == 0:\n",
    "        print(i)\n",
    "\n",
    "\n",
    "##sum of first 20 number\n",
    "sum = 0\n",
    "for i in range(0,20):\n",
    "    sum = sum+i\n",
    "\n",
    "print(\"Sum of first 20 number is:\",sum)"
   ]
  },
  {
   "cell_type": "markdown",
   "metadata": {},
   "source": [
    "##### 3. if and if else"
   ]
  },
  {
   "cell_type": "code",
   "execution_count": 4,
   "metadata": {},
   "outputs": [
    {
     "name": "stdout",
     "output_type": "stream",
     "text": [
      "Given number is negative\n"
     ]
    }
   ],
   "source": [
    "num_1 = int(input(\"Enter your number: \"))\n",
    "if num_1 >= 0:\n",
    "    print(\"Given number is positive\")\n",
    "else:\n",
    "    print(\"Given number is negative\")"
   ]
  },
  {
   "cell_type": "code",
   "execution_count": 5,
   "metadata": {},
   "outputs": [
    {
     "name": "stdout",
     "output_type": "stream",
     "text": [
      "Given number is a prime number\n"
     ]
    }
   ],
   "source": [
    "num = int(input(\"Enter your number: \"))\n",
    "\n",
    "if num == 0 and num == 1:\n",
    "    print(\"Given number is not a prime number\")\n",
    "\n",
    "flag = False\n",
    "for i in range(2,num):\n",
    "    if i%num==0:\n",
    "        flag = True\n",
    "        break\n",
    "if flag:\n",
    "    print(\"Given number is not a prime number\")\n",
    "else: \n",
    "    print(\"Given number is a prime number\")\n",
    "    "
   ]
  },
  {
   "cell_type": "code",
   "execution_count": 6,
   "metadata": {},
   "outputs": [
    {
     "name": "stdout",
     "output_type": "stream",
     "text": [
      "754\n"
     ]
    }
   ],
   "source": [
    "a = int(input(\"Enter first number: \"))\n",
    "b = int(input(\"Enter second number: \"))\n",
    "user = input(\"specify the type of operation want to specify: \")\n",
    "\n",
    "if user == \"addition\":\n",
    "    print(a+b)\n",
    "elif user == \"substraction\":\n",
    "    print(a-b)\n",
    "elif user == \"multiplication\":\n",
    "    print(a*b)\n",
    "elif user == \"division\":\n",
    "    print(a/b)\n",
    "else:\n",
    "    print(\"No input from user\")"
   ]
  },
  {
   "cell_type": "markdown",
   "metadata": {},
   "source": [
    "5. user defined functions without for loop, if condition"
   ]
  },
  {
   "cell_type": "code",
   "execution_count": 12,
   "metadata": {},
   "outputs": [
    {
     "name": "stdout",
     "output_type": "stream",
     "text": [
      "Given number is not even\n"
     ]
    }
   ],
   "source": [
    "def even_number(num):\n",
    "    if num%2==0:\n",
    "        print(\"Given number is even\")\n",
    "    else:\n",
    "        print(\"Given number is not even\")\n",
    "\n",
    "even_number(9)\n",
    "\n"
   ]
  },
  {
   "cell_type": "code",
   "execution_count": 13,
   "metadata": {},
   "outputs": [
    {
     "name": "stdout",
     "output_type": "stream",
     "text": [
      "Given number is even\n"
     ]
    }
   ],
   "source": [
    "even_number(4)"
   ]
  },
  {
   "cell_type": "code",
   "execution_count": 14,
   "metadata": {},
   "outputs": [
    {
     "name": "stdout",
     "output_type": "stream",
     "text": [
      "Invalid Entry\n"
     ]
    }
   ],
   "source": [
    "def length(text):\n",
    "    if len(text)>= 4:\n",
    "        print(\"Invalid Entry\")\n",
    "    else:\n",
    "        print(\"Valid Entry\")\n",
    "\n",
    "length(\"Smita\")"
   ]
  },
  {
   "cell_type": "code",
   "execution_count": null,
   "metadata": {},
   "outputs": [],
   "source": []
  },
  {
   "cell_type": "code",
   "execution_count": null,
   "metadata": {},
   "outputs": [
    {
     "name": "stdout",
     "output_type": "stream",
     "text": [
      "Given name is correct\n"
     ]
    }
   ],
   "source": [
    "def text(name):\n",
    "    if name.startswith('S') or name.startswith('s'):\n",
    "        print(\"Given name is correct\")\n",
    "    else:\n",
    "        print(\"Enter another name\")\n",
    "\n",
    "text(\"smita\")\n",
    "   "
   ]
  },
  {
   "cell_type": "markdown",
   "metadata": {},
   "source": [
    "6. user defined functions with for loop"
   ]
  },
  {
   "cell_type": "code",
   "execution_count": null,
   "metadata": {},
   "outputs": [
    {
     "name": "stdout",
     "output_type": "stream",
     "text": [
      "20\n"
     ]
    }
   ],
   "source": [
    "def total_add(a,b):\n",
    "\n",
    "    total_sum = 0\n",
    "    \n",
    "    for i in range(a,b+1):\n",
    "        total_sum = total_sum + a\n",
    "        a = a+1\n",
    "        \n",
    "\n",
    "    print(total_sum)\n",
    "        \n",
    "total_add(2,6)"
   ]
  },
  {
   "cell_type": "code",
   "execution_count": 54,
   "metadata": {},
   "outputs": [
    {
     "name": "stdout",
     "output_type": "stream",
     "text": [
      "120\n"
     ]
    }
   ],
   "source": [
    "def multiply(a,b):\n",
    "\n",
    "    total_mul = 1\n",
    "    for i in range(a,b):\n",
    "        total_mul = total_mul*a\n",
    "        a = a+1\n",
    "        \n",
    "\n",
    "    print(total_mul)\n",
    "        \n",
    "multiply(2,6)"
   ]
  },
  {
   "cell_type": "markdown",
   "metadata": {},
   "source": [
    "7. user defined functions with for loop and if condition"
   ]
  },
  {
   "cell_type": "code",
   "execution_count": null,
   "metadata": {},
   "outputs": [],
   "source": []
  },
  {
   "cell_type": "markdown",
   "metadata": {},
   "source": [
    "8.break"
   ]
  },
  {
   "cell_type": "code",
   "execution_count": 71,
   "metadata": {},
   "outputs": [
    {
     "name": "stdout",
     "output_type": "stream",
     "text": [
      "0\n",
      "1\n",
      "2\n",
      "3\n",
      "4\n",
      "5\n"
     ]
    }
   ],
   "source": [
    "for i in range(10):\n",
    "    print(i)\n",
    "    if i==5:\n",
    "        #print(i)\n",
    "        break"
   ]
  },
  {
   "cell_type": "code",
   "execution_count": 77,
   "metadata": {},
   "outputs": [
    {
     "name": "stdout",
     "output_type": "stream",
     "text": [
      "smita\n"
     ]
    }
   ],
   "source": [
    "lst = ['abc','smita','John']\n",
    "for i in lst:\n",
    "    if len(i)==5:\n",
    "        print(i)\n",
    "        break\n",
    "\n",
    "    "
   ]
  },
  {
   "cell_type": "markdown",
   "metadata": {},
   "source": [
    "9. continue"
   ]
  },
  {
   "cell_type": "code",
   "execution_count": 78,
   "metadata": {},
   "outputs": [
    {
     "name": "stdout",
     "output_type": "stream",
     "text": [
      "0\n",
      "2\n",
      "4\n",
      "6\n",
      "8\n",
      "10\n",
      "12\n",
      "14\n"
     ]
    }
   ],
   "source": [
    "for i in range(15):\n",
    "    if i%2==0:\n",
    "        print(i)\n",
    "        continue"
   ]
  },
  {
   "cell_type": "code",
   "execution_count": 88,
   "metadata": {},
   "outputs": [
    {
     "name": "stdout",
     "output_type": "stream",
     "text": [
      "1\n",
      "3\n",
      "5\n",
      "7\n",
      "9\n",
      "11\n",
      "13\n"
     ]
    }
   ],
   "source": [
    "for i in range(15):\n",
    "    if i%2!=0:\n",
    "        print(i)\n",
    "        continue"
   ]
  },
  {
   "cell_type": "markdown",
   "metadata": {},
   "source": [
    "12. for loop with not in operator"
   ]
  },
  {
   "cell_type": "code",
   "execution_count": 105,
   "metadata": {},
   "outputs": [
    {
     "name": "stdout",
     "output_type": "stream",
     "text": [
      "True\n"
     ]
    }
   ],
   "source": [
    "lst = ['apple','banana','grapes','orange']\n",
    "for lst in lst:\n",
    "    if 'apple'not in lst:\n",
    "        print('apple'not in lst)\n",
    "        break\n",
    "    \n",
    "    \n"
   ]
  },
  {
   "cell_type": "markdown",
   "metadata": {},
   "source": [
    "10.if with in operator"
   ]
  },
  {
   "cell_type": "code",
   "execution_count": 109,
   "metadata": {},
   "outputs": [
    {
     "name": "stdout",
     "output_type": "stream",
     "text": [
      "True\n"
     ]
    }
   ],
   "source": [
    "num = [1,2,3,4,5,6,7,8,9]\n",
    "if 5 in num:\n",
    "    print(5 in num)"
   ]
  },
  {
   "cell_type": "code",
   "execution_count": 113,
   "metadata": {},
   "outputs": [
    {
     "name": "stdout",
     "output_type": "stream",
     "text": [
      "Hi, password is correct\n"
     ]
    }
   ],
   "source": [
    "password = input(\"password: \")\n",
    "\n",
    "if '@'and'#' in password:\n",
    "    print(\"Hi, password is correct\")\n",
    "else:\n",
    "    print(\"Password is incorrect\")"
   ]
  },
  {
   "cell_type": "markdown",
   "metadata": {},
   "source": [
    "12. for loop with in operator"
   ]
  },
  {
   "cell_type": "code",
   "execution_count": 117,
   "metadata": {},
   "outputs": [
    {
     "name": "stdout",
     "output_type": "stream",
     "text": [
      "105\n"
     ]
    }
   ],
   "source": [
    "sum = 0\n",
    "for i in range(0,15):\n",
    "    sum = sum+i\n",
    "print(sum)\n"
   ]
  }
 ],
 "metadata": {
  "kernelspec": {
   "display_name": ".venv",
   "language": "python",
   "name": "python3"
  },
  "language_info": {
   "codemirror_mode": {
    "name": "ipython",
    "version": 3
   },
   "file_extension": ".py",
   "mimetype": "text/x-python",
   "name": "python",
   "nbconvert_exporter": "python",
   "pygments_lexer": "ipython3",
   "version": "3.13.0"
  }
 },
 "nbformat": 4,
 "nbformat_minor": 2
}
