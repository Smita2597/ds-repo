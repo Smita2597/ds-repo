{
 "cells": [
  {
   "cell_type": "markdown",
   "metadata": {},
   "source": []
  },
  {
   "cell_type": "code",
   "execution_count": 1,
   "metadata": {},
   "outputs": [
    {
     "name": "stdout",
     "output_type": "stream",
     "text": [
      "Collecting scipy\n",
      "  Downloading scipy-1.14.1-cp313-cp313-win_amd64.whl.metadata (60 kB)\n",
      "Requirement already satisfied: numpy<2.3,>=1.23.5 in s:\\datascience\\.venv\\lib\\site-packages (from scipy) (2.1.3)\n",
      "Downloading scipy-1.14.1-cp313-cp313-win_amd64.whl (44.5 MB)\n",
      "   ---------------------------------------- 0.0/44.5 MB ? eta -:--:--\n",
      "   ---------------------------------------- 0.3/44.5 MB ? eta -:--:--\n",
      "   - -------------------------------------- 1.3/44.5 MB 3.1 MB/s eta 0:00:14\n",
      "   - -------------------------------------- 1.8/44.5 MB 3.4 MB/s eta 0:00:13\n",
      "   -- ------------------------------------- 2.6/44.5 MB 3.2 MB/s eta 0:00:14\n",
      "   -- ------------------------------------- 3.1/44.5 MB 3.0 MB/s eta 0:00:14\n",
      "   --- ------------------------------------ 3.7/44.5 MB 3.0 MB/s eta 0:00:14\n",
      "   --- ------------------------------------ 4.2/44.5 MB 2.8 MB/s eta 0:00:15\n",
      "   ---- ----------------------------------- 4.5/44.5 MB 2.8 MB/s eta 0:00:15\n",
      "   ---- ----------------------------------- 5.2/44.5 MB 2.7 MB/s eta 0:00:15\n",
      "   ----- ---------------------------------- 5.8/44.5 MB 2.6 MB/s eta 0:00:15\n",
      "   ----- ---------------------------------- 6.0/44.5 MB 2.6 MB/s eta 0:00:15\n",
      "   ----- ---------------------------------- 6.6/44.5 MB 2.5 MB/s eta 0:00:15\n",
      "   ------ --------------------------------- 7.1/44.5 MB 2.5 MB/s eta 0:00:15\n",
      "   ------ --------------------------------- 7.6/44.5 MB 2.6 MB/s eta 0:00:15\n",
      "   ------- -------------------------------- 8.1/44.5 MB 2.5 MB/s eta 0:00:15\n",
      "   ------- -------------------------------- 8.7/44.5 MB 2.5 MB/s eta 0:00:15\n",
      "   -------- ------------------------------- 8.9/44.5 MB 2.5 MB/s eta 0:00:15\n",
      "   -------- ------------------------------- 9.4/44.5 MB 2.5 MB/s eta 0:00:15\n",
      "   -------- ------------------------------- 10.0/44.5 MB 2.5 MB/s eta 0:00:15\n",
      "   --------- ------------------------------ 10.5/44.5 MB 2.4 MB/s eta 0:00:15\n",
      "   --------- ------------------------------ 10.7/44.5 MB 2.4 MB/s eta 0:00:14\n",
      "   ---------- ----------------------------- 11.3/44.5 MB 2.4 MB/s eta 0:00:14\n",
      "   ---------- ----------------------------- 11.8/44.5 MB 2.4 MB/s eta 0:00:14\n",
      "   ---------- ----------------------------- 12.1/44.5 MB 2.4 MB/s eta 0:00:14\n",
      "   ----------- ---------------------------- 12.6/44.5 MB 2.3 MB/s eta 0:00:14\n",
      "   ----------- ---------------------------- 13.1/44.5 MB 2.4 MB/s eta 0:00:14\n",
      "   ------------ --------------------------- 13.9/44.5 MB 2.4 MB/s eta 0:00:13\n",
      "   ------------ --------------------------- 14.2/44.5 MB 2.4 MB/s eta 0:00:13\n",
      "   ------------- -------------------------- 14.7/44.5 MB 2.4 MB/s eta 0:00:13\n",
      "   ------------- -------------------------- 15.2/44.5 MB 2.4 MB/s eta 0:00:13\n",
      "   -------------- ------------------------- 15.7/44.5 MB 2.4 MB/s eta 0:00:13\n",
      "   -------------- ------------------------- 16.5/44.5 MB 2.4 MB/s eta 0:00:12\n",
      "   --------------- ------------------------ 17.0/44.5 MB 2.4 MB/s eta 0:00:12\n",
      "   --------------- ------------------------ 17.6/44.5 MB 2.4 MB/s eta 0:00:12\n",
      "   ---------------- ----------------------- 18.1/44.5 MB 2.4 MB/s eta 0:00:11\n",
      "   ---------------- ----------------------- 18.6/44.5 MB 2.4 MB/s eta 0:00:11\n",
      "   ---------------- ----------------------- 18.9/44.5 MB 2.4 MB/s eta 0:00:11\n",
      "   ----------------- ---------------------- 19.7/44.5 MB 2.4 MB/s eta 0:00:11\n",
      "   ------------------ --------------------- 20.2/44.5 MB 2.4 MB/s eta 0:00:11\n",
      "   ------------------ --------------------- 20.4/44.5 MB 2.4 MB/s eta 0:00:11\n",
      "   ------------------ --------------------- 21.0/44.5 MB 2.4 MB/s eta 0:00:10\n",
      "   ------------------- -------------------- 21.5/44.5 MB 2.4 MB/s eta 0:00:10\n",
      "   ------------------- -------------------- 22.0/44.5 MB 2.4 MB/s eta 0:00:10\n",
      "   -------------------- ------------------- 22.5/44.5 MB 2.4 MB/s eta 0:00:10\n",
      "   -------------------- ------------------- 23.1/44.5 MB 2.4 MB/s eta 0:00:09\n",
      "   --------------------- ------------------ 23.6/44.5 MB 2.4 MB/s eta 0:00:09\n",
      "   --------------------- ------------------ 24.1/44.5 MB 2.4 MB/s eta 0:00:09\n",
      "   ---------------------- ----------------- 24.6/44.5 MB 2.4 MB/s eta 0:00:09\n",
      "   ---------------------- ----------------- 25.2/44.5 MB 2.4 MB/s eta 0:00:09\n",
      "   ----------------------- ---------------- 25.7/44.5 MB 2.4 MB/s eta 0:00:08\n",
      "   ----------------------- ---------------- 26.0/44.5 MB 2.4 MB/s eta 0:00:08\n",
      "   ----------------------- ---------------- 26.2/44.5 MB 2.4 MB/s eta 0:00:08\n",
      "   ----------------------- ---------------- 26.5/44.5 MB 2.3 MB/s eta 0:00:08\n",
      "   ------------------------ --------------- 27.0/44.5 MB 2.3 MB/s eta 0:00:08\n",
      "   ------------------------ --------------- 27.5/44.5 MB 2.3 MB/s eta 0:00:08\n",
      "   ------------------------- -------------- 28.0/44.5 MB 2.3 MB/s eta 0:00:08\n",
      "   ------------------------- -------------- 28.6/44.5 MB 2.3 MB/s eta 0:00:07\n",
      "   ------------------------- -------------- 28.8/44.5 MB 2.3 MB/s eta 0:00:07\n",
      "   -------------------------- ------------- 29.4/44.5 MB 2.3 MB/s eta 0:00:07\n",
      "   -------------------------- ------------- 29.6/44.5 MB 2.3 MB/s eta 0:00:07\n",
      "   --------------------------- ------------ 30.1/44.5 MB 2.3 MB/s eta 0:00:07\n",
      "   --------------------------- ------------ 30.4/44.5 MB 2.3 MB/s eta 0:00:07\n",
      "   --------------------------- ------------ 30.9/44.5 MB 2.3 MB/s eta 0:00:06\n",
      "   ---------------------------- ----------- 31.5/44.5 MB 2.3 MB/s eta 0:00:06\n",
      "   ---------------------------- ----------- 31.7/44.5 MB 2.3 MB/s eta 0:00:06\n",
      "   ----------------------------- ---------- 32.2/44.5 MB 2.3 MB/s eta 0:00:06\n",
      "   ----------------------------- ---------- 32.8/44.5 MB 2.3 MB/s eta 0:00:06\n",
      "   ----------------------------- ---------- 33.3/44.5 MB 2.3 MB/s eta 0:00:05\n",
      "   ------------------------------ --------- 33.6/44.5 MB 2.3 MB/s eta 0:00:05\n",
      "   ------------------------------ --------- 33.8/44.5 MB 2.3 MB/s eta 0:00:05\n",
      "   ------------------------------ --------- 34.3/44.5 MB 2.3 MB/s eta 0:00:05\n",
      "   ------------------------------- -------- 34.9/44.5 MB 2.3 MB/s eta 0:00:05\n",
      "   ------------------------------- -------- 35.4/44.5 MB 2.3 MB/s eta 0:00:05\n",
      "   -------------------------------- ------- 35.9/44.5 MB 2.3 MB/s eta 0:00:04\n",
      "   -------------------------------- ------- 36.4/44.5 MB 2.3 MB/s eta 0:00:04\n",
      "   --------------------------------- ------ 36.7/44.5 MB 2.3 MB/s eta 0:00:04\n",
      "   --------------------------------- ------ 37.5/44.5 MB 2.3 MB/s eta 0:00:04\n",
      "   ---------------------------------- ----- 38.0/44.5 MB 2.3 MB/s eta 0:00:03\n",
      "   ---------------------------------- ----- 38.5/44.5 MB 2.3 MB/s eta 0:00:03\n",
      "   ----------------------------------- ---- 39.3/44.5 MB 2.3 MB/s eta 0:00:03\n",
      "   ----------------------------------- ---- 39.8/44.5 MB 2.3 MB/s eta 0:00:03\n",
      "   ------------------------------------ --- 40.4/44.5 MB 2.3 MB/s eta 0:00:02\n",
      "   ------------------------------------ --- 40.9/44.5 MB 2.3 MB/s eta 0:00:02\n",
      "   ------------------------------------- -- 41.4/44.5 MB 2.3 MB/s eta 0:00:02\n",
      "   ------------------------------------- -- 41.9/44.5 MB 2.3 MB/s eta 0:00:02\n",
      "   -------------------------------------- - 42.5/44.5 MB 2.3 MB/s eta 0:00:01\n",
      "   -------------------------------------- - 43.0/44.5 MB 2.3 MB/s eta 0:00:01\n",
      "   -------------------------------------- - 43.3/44.5 MB 2.3 MB/s eta 0:00:01\n",
      "   ---------------------------------------  43.8/44.5 MB 2.3 MB/s eta 0:00:01\n",
      "   ---------------------------------------  44.3/44.5 MB 2.3 MB/s eta 0:00:01\n",
      "   ---------------------------------------  44.3/44.5 MB 2.3 MB/s eta 0:00:01\n",
      "   ---------------------------------------  44.3/44.5 MB 2.3 MB/s eta 0:00:01\n",
      "   ---------------------------------------- 44.5/44.5 MB 2.2 MB/s eta 0:00:00\n",
      "Installing collected packages: scipy\n",
      "Successfully installed scipy-1.14.1\n",
      "Note: you may need to restart the kernel to use updated packages.\n"
     ]
    }
   ],
   "source": [
    "pip install scipy"
   ]
  },
  {
   "cell_type": "code",
   "execution_count": 1,
   "metadata": {},
   "outputs": [],
   "source": [
    "from scipy import stats"
   ]
  },
  {
   "cell_type": "markdown",
   "metadata": {},
   "source": [
    "### Example 1"
   ]
  },
  {
   "cell_type": "code",
   "execution_count": 3,
   "metadata": {},
   "outputs": [],
   "source": [
    "mean = 60\n",
    "std = 10"
   ]
  },
  {
   "cell_type": "code",
   "execution_count": 6,
   "metadata": {},
   "outputs": [
    {
     "data": {
      "text/plain": [
       "np.float64(0.84)"
      ]
     },
     "execution_count": 6,
     "metadata": {},
     "output_type": "execute_result"
    }
   ],
   "source": [
    "## How many students scroed less than 70 marks\n",
    "stats.norm.cdf(x=70,loc=60,scale=10).round(2)\n",
    "\n",
    "# 84% students has scored less than 70 marks"
   ]
  },
  {
   "cell_type": "code",
   "execution_count": 5,
   "metadata": {},
   "outputs": [
    {
     "data": {
      "text/plain": [
       "np.float64(0.16)"
      ]
     },
     "execution_count": 5,
     "metadata": {},
     "output_type": "execute_result"
    }
   ],
   "source": [
    "## How many students scroed more than 70 marks\n",
    "(1-stats.norm.cdf(x=70,loc=60,scale=10)).round(2)\n",
    "\n",
    "# 16% students scored more than 70 marks"
   ]
  },
  {
   "cell_type": "markdown",
   "metadata": {},
   "source": [
    "### Example 2: GMAT Score"
   ]
  },
  {
   "cell_type": "code",
   "execution_count": null,
   "metadata": {},
   "outputs": [],
   "source": [
    "mean =711\n",
    "std = 29"
   ]
  },
  {
   "cell_type": "code",
   "execution_count": null,
   "metadata": {},
   "outputs": [
    {
     "data": {
      "text/plain": [
       "np.float64(0.8574573961611839)"
      ]
     },
     "execution_count": 13,
     "metadata": {},
     "output_type": "execute_result"
    }
   ],
   "source": [
    "## How many students scored 680 marks\n",
    "1 - stats.norm.cdf(x=680,loc=711,scale=29)"
   ]
  },
  {
   "cell_type": "code",
   "execution_count": 19,
   "metadata": {},
   "outputs": [
    {
     "data": {
      "text/plain": [
       "np.float64(0.31)"
      ]
     },
     "execution_count": 19,
     "metadata": {},
     "output_type": "execute_result"
    }
   ],
   "source": [
    "stats.norm.cdf(x=697,loc=711,scale=29).round(2)"
   ]
  },
  {
   "cell_type": "code",
   "execution_count": 18,
   "metadata": {},
   "outputs": [
    {
     "data": {
      "text/plain": [
       "np.float64(0.84)"
      ]
     },
     "execution_count": 18,
     "metadata": {},
     "output_type": "execute_result"
    }
   ],
   "source": [
    "stats.norm.cdf(x=740,loc=711,scale=29).round(2)"
   ]
  },
  {
   "cell_type": "code",
   "execution_count": 20,
   "metadata": {},
   "outputs": [
    {
     "data": {
      "text/plain": [
       "0.53"
      ]
     },
     "execution_count": 20,
     "metadata": {},
     "output_type": "execute_result"
    }
   ],
   "source": [
    "0.84-0.31\n"
   ]
  },
  {
   "cell_type": "code",
   "execution_count": 22,
   "metadata": {},
   "outputs": [
    {
     "data": {
      "text/plain": [
       "np.float64(0.84)"
      ]
     },
     "execution_count": 22,
     "metadata": {},
     "output_type": "execute_result"
    }
   ],
   "source": [
    "stats.norm.cdf(x=740,loc=711,scale=29).round(2)"
   ]
  },
  {
   "cell_type": "code",
   "execution_count": 23,
   "metadata": {},
   "outputs": [
    {
     "data": {
      "text/plain": [
       "0.16000000000000003"
      ]
     },
     "execution_count": 23,
     "metadata": {},
     "output_type": "execute_result"
    }
   ],
   "source": [
    "1-0.84"
   ]
  },
  {
   "cell_type": "markdown",
   "metadata": {},
   "source": [
    "### Confidence Interval"
   ]
  },
  {
   "cell_type": "markdown",
   "metadata": {},
   "source": [
    "### Z Test"
   ]
  },
  {
   "cell_type": "code",
   "execution_count": 2,
   "metadata": {},
   "outputs": [
    {
     "data": {
      "text/plain": [
       "np.float64(1.0364333894937898)"
      ]
     },
     "execution_count": 2,
     "metadata": {},
     "output_type": "execute_result"
    }
   ],
   "source": [
    "stats.norm.ppf(0.85)"
   ]
  },
  {
   "cell_type": "code",
   "execution_count": 4,
   "metadata": {},
   "outputs": [
    {
     "data": {
      "text/plain": [
       "np.float64(1.0364333894937898)"
      ]
     },
     "execution_count": 4,
     "metadata": {},
     "output_type": "execute_result"
    }
   ],
   "source": [
    "stats.norm.ppf(0.85)"
   ]
  },
  {
   "cell_type": "code",
   "execution_count": 3,
   "metadata": {},
   "outputs": [
    {
     "data": {
      "text/plain": [
       "np.float64(1.4395314709384563)"
      ]
     },
     "execution_count": 3,
     "metadata": {},
     "output_type": "execute_result"
    }
   ],
   "source": [
    "stats.norm.ppf(0.925)"
   ]
  },
  {
   "cell_type": "markdown",
   "metadata": {},
   "source": [
    "### T test"
   ]
  },
  {
   "cell_type": "code",
   "execution_count": 8,
   "metadata": {},
   "outputs": [
    {
     "data": {
      "text/plain": [
       "np.float64(1.977177724476122)"
      ]
     },
     "execution_count": 8,
     "metadata": {},
     "output_type": "execute_result"
    }
   ],
   "source": [
    "stats.t.ppf(q=0.975,df=139)"
   ]
  },
  {
   "cell_type": "code",
   "execution_count": 10,
   "metadata": {},
   "outputs": [
    {
     "data": {
      "text/plain": [
       "np.float64(1.6558898677725957)"
      ]
     },
     "execution_count": 10,
     "metadata": {},
     "output_type": "execute_result"
    }
   ],
   "source": [
    "stats.t.ppf(q=0.95,df=139)"
   ]
  }
 ],
 "metadata": {
  "kernelspec": {
   "display_name": ".venv",
   "language": "python",
   "name": "python3"
  },
  "language_info": {
   "codemirror_mode": {
    "name": "ipython",
    "version": 3
   },
   "file_extension": ".py",
   "mimetype": "text/x-python",
   "name": "python",
   "nbconvert_exporter": "python",
   "pygments_lexer": "ipython3",
   "version": "3.13.0"
  }
 },
 "nbformat": 4,
 "nbformat_minor": 2
}
